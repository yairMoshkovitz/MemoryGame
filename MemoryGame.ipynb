{
 "cells": [
  {
   "cell_type": "code",
   "execution_count": 1,
   "metadata": {},
   "outputs": [
    {
     "name": "stdout",
     "output_type": "stream",
     "text": [
      "Requirement already satisfied: pygame in c:\\users\\zbernstein\\anaconda3\\lib\\site-packages (2.0.1)\n",
      "Note: you may need to restart the kernel to use updated packages.\n"
     ]
    }
   ],
   "source": [
    "pip install pygame"
   ]
  },
  {
   "cell_type": "code",
   "execution_count": null,
   "metadata": {},
   "outputs": [],
   "source": [
    "pygame.quit()"
   ]
  },
  {
   "cell_type": "code",
   "execution_count": null,
   "metadata": {},
   "outputs": [],
   "source": [
    "print(mouse)"
   ]
  },
  {
   "cell_type": "code",
   "execution_count": null,
   "metadata": {},
   "outputs": [],
   "source": [
    "\n",
    "\n"
   ]
  },
  {
   "cell_type": "code",
   "execution_count": 1,
   "metadata": {},
   "outputs": [
    {
     "ename": "SyntaxError",
     "evalue": "invalid syntax (<ipython-input-1-bcee0ec16214>, line 1)",
     "output_type": "error",
     "traceback": [
      "\u001b[0;36m  File \u001b[0;32m\"<ipython-input-1-bcee0ec16214>\"\u001b[0;36m, line \u001b[0;32m1\u001b[0m\n\u001b[0;31m    pygame.draw.line(screen, x[0], [50,50], [50,80], 40).\u001b[0m\n\u001b[0m                                                         ^\u001b[0m\n\u001b[0;31mSyntaxError\u001b[0m\u001b[0;31m:\u001b[0m invalid syntax\n"
     ]
    }
   ],
   "source": [
    "pygame.draw.line(screen, x[0], [50,50], [50,80], 40).\n",
    "    pygame.draw.line(screen, x[0], [50,100], [50,130], 40)\n",
    "    pygame.draw.line(screen, x[0], [50,150], [50,180], 40)\n",
    "    pygame.draw.line(screen, x[0], [50,200], [50,230], 40)\n",
    "    pygame.draw.line(screen, x[0], [100,50], [100,80], 40)\n",
    "    pygame.draw.line(screen, x[0], [100,100], [100,130], 40)\n",
    "    pygame.draw.line(screen, x[0], [100,150], [100,180], 40)\n",
    "    pygame.draw.line(screen, x[0], [100,200], [100,230], 40)\n",
    "    \n",
    "    \n",
    "    x1 =pygame.draw.line(screen, black, [50,50], [50,80], 40)\n",
    "    x2 =pygame.draw.line(screen, black, [50,100], [50,130], 40)\n",
    "    x3= pygame.draw.line(screen, black, [50,150], [50,180], 40)\n",
    "    x4= pygame.draw.line(screen, black, [50,200], [50,230], 40)\n",
    "    x5= pygame.draw.line(screen, black, [100,50], [100,80], 40)\n",
    "    pygame.draw.line(screen, black, [100,100], [100,130], 40)\n",
    "    pygame.draw.line(screen, black, [100,150], [100,180], 40)\n",
    "    pygame.draw.line(screen, black, [100,200], [100,230], 40)\n",
    "    "
   ]
  },
  {
   "cell_type": "code",
   "execution_count": null,
   "metadata": {},
   "outputs": [
    {
     "name": "stdout",
     "output_type": "stream",
     "text": [
      "pygame 2.1.0 (SDL 2.0.16, Python 3.8.5)\n",
      "Hello from the pygame community. https://www.pygame.org/contribute.html\n",
      "your name is:yair\n"
     ]
    }
   ],
   "source": [
    "import os\n",
    "import random\n",
    "import sys\n",
    "import math\n",
    "import pygame\n",
    "import pygame.mixer\n",
    "from pygame.locals import *\n",
    "\n",
    "q = input(\"your name is:\")\n",
    "\n",
    "pygame.init()\n",
    "\n",
    "black = 0, 0, 0\n",
    "PINK = (255, 20, 147)\n",
    "red = 255, 0, 0\n",
    "green = 0, 255, 0\n",
    "blue = 0, 0, 255\n",
    "list = [green,blue,red,PINK]\n",
    "\n",
    "\n",
    "screen = pygame.display.set_mode((600, 400))\n",
    "\n",
    "\n",
    "clock = pygame.time.Clock()\n",
    "\n",
    "pygame.display.set_caption(q)\n",
    "\n",
    "\n",
    "class klafim():\n",
    "    def __init__(self,x,y,color):\n",
    "        \n",
    "        self.color = color\n",
    "        self.x = 20+x\n",
    "        self.y = 20+y\n",
    "        pygame.draw.line(screen, white , [self.x ,self.y], [self.x, self.y+30], 40)\n",
    "        pygame.display.flip()\n",
    "\n",
    "\n",
    "        self.open = 0\n",
    "    def close(self):\n",
    "        self.open = 0\n",
    "        pygame.draw.line(screen, white , [self.x ,self.y], [self.x, self.y+30], 40)\n",
    "               \n",
    "            \n",
    "    def cheak(self,a,b):\n",
    "        if self.x-20 < a <self.x+30 and self.y <b < self.y+30 :\n",
    "            self.open = 1\n",
    "            pygame.draw.line(screen, self.color , [self.x ,self.y], [self.x, self.y+30], 40)\n",
    "            pygame.display.flip()\n",
    "\n",
    "\n",
    "x=0\n",
    "y=0\n",
    "\n",
    "k=[0,0,0]\n",
    "k2=[]\n",
    "\n",
    "n = int(input(\"num of zogot:\")) \n",
    "\n",
    "for i in range(n):\n",
    "    for i in range(3):\n",
    "        k[i]+= (random.randint(0,250))\n",
    "    k2+=[tuple(k)]+[tuple(k)]\n",
    "    \n",
    "klafim2 = []\n",
    "\n",
    "for i in range(n):\n",
    "    a = k2[random.randint(0,len(k2))-1]\n",
    "    klaf = klafim(0+x,0+y,a)\n",
    "    klafim2 += [klaf]\n",
    "    k2.remove(a)\n",
    "    y += 50\n",
    "x += 50\n",
    "y -= 50*n\n",
    "for i in range(n):\n",
    "    a = k2[random.randint(0,len(k2)-1)]\n",
    "    klaf = klafim(0+x,0+y,a)\n",
    "    klafim2 += [klaf]\n",
    "    k2.remove(a)\n",
    "    y += 50\n",
    "\n",
    "\n",
    "#  klaf = (0,0,(255, 20, 147))\n",
    "\n",
    "\n",
    "while True:\n",
    "    \n",
    "    for event in pygame.event.get():\n",
    "        mouse = pygame.mouse.get_pos()\n",
    "        pygame.display.flip()\n",
    "        \n",
    "\n",
    "        if event.type == pygame.MOUSEBUTTONDOWN and event.button == 1:\n",
    "            for i in  klafim2:\n",
    "                i.cheak(mouse[0],mouse[1])\n",
    "                \n",
    "         #       print(mouse)\n",
    "                print(i.open)\n",
    "            print(\"-----------------------------\")\n",
    "            p=0\n",
    "            for i in klafim2:\n",
    "                if i.open == 1:\n",
    "                    p += 1\n",
    "                    k2 += [i]\n",
    "            print(p)\n",
    "            print(\"-----------------------------\")\n",
    "\n",
    "            if p == 2:\n",
    "                if k2[-1].color == k2[-2].color:\n",
    "                    k2[-1].open=0\n",
    "                    k2[-2].open=0\n",
    "                    klafim2.remove(k2[-1])\n",
    "                    klafim2.remove(k2[-2])\n",
    "                clock.tick(1/4)\n",
    "                for i in    klafim2:\n",
    "                    i.close()\n",
    "                    \n",
    "        if event.type == pygame.QUIT:\n",
    "            pygame.quit()\n",
    "            \n",
    "            \n",
    "    \n",
    "    \n",
    "          #  mouse_pos_list.append(pygame.mouse.get_pos())\n",
    "          \n",
    "       \n",
    "          \n",
    "   #     screen.fill(green)\n",
    "\n",
    "    pygame.display.flip()"
   ]
  },
  {
   "cell_type": "code",
   "execution_count": 115,
   "metadata": {},
   "outputs": [
    {
     "name": "stdout",
     "output_type": "stream",
     "text": [
      "num of zogot:2\n"
     ]
    }
   ],
   "source": [
    "9"
   ]
  },
  {
   "cell_type": "code",
   "execution_count": 116,
   "metadata": {},
   "outputs": [
    {
     "name": "stdout",
     "output_type": "stream",
     "text": [
      "[(233, 52, 81), (233, 52, 81), (371, 157, 300), (371, 157, 300)]\n"
     ]
    }
   ],
   "source": [
    "print(k2)"
   ]
  },
  {
   "cell_type": "code",
   "execution_count": null,
   "metadata": {},
   "outputs": [],
   "source": []
  }
 ],
 "metadata": {
  "kernelspec": {
   "display_name": "Python 3",
   "language": "python",
   "name": "python3"
  },
  "language_info": {
   "codemirror_mode": {
    "name": "ipython",
    "version": 3
   },
   "file_extension": ".py",
   "mimetype": "text/x-python",
   "name": "python",
   "nbconvert_exporter": "python",
   "pygments_lexer": "ipython3",
   "version": "3.8.5"
  }
 },
 "nbformat": 4,
 "nbformat_minor": 4
}
